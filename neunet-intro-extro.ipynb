{
 "cells": [
  {
   "cell_type": "code",
   "execution_count": 1,
   "id": "72f88235",
   "metadata": {
    "_cell_guid": "b1076dfc-b9ad-4769-8c92-a6c4dae69d19",
    "_uuid": "8f2839f25d086af736a60e9eeb907d3b93b6e0e5",
    "execution": {
     "iopub.execute_input": "2025-07-02T13:05:11.520444Z",
     "iopub.status.busy": "2025-07-02T13:05:11.520079Z",
     "iopub.status.idle": "2025-07-02T13:05:13.376097Z",
     "shell.execute_reply": "2025-07-02T13:05:13.374983Z"
    },
    "papermill": {
     "duration": 1.863563,
     "end_time": "2025-07-02T13:05:13.377771",
     "exception": false,
     "start_time": "2025-07-02T13:05:11.514208",
     "status": "completed"
    },
    "tags": []
   },
   "outputs": [
    {
     "name": "stdout",
     "output_type": "stream",
     "text": [
      "/kaggle/input/playground-series-s5e7/sample_submission.csv\n",
      "/kaggle/input/playground-series-s5e7/train.csv\n",
      "/kaggle/input/playground-series-s5e7/test.csv\n"
     ]
    }
   ],
   "source": [
    "# This Python 3 environment comes with many helpful analytics libraries installed\n",
    "# It is defined by the kaggle/python Docker image: https://github.com/kaggle/docker-python\n",
    "# For example, here's several helpful packages to load\n",
    "\n",
    "import numpy as np # linear algebra\n",
    "import pandas as pd # data processing, CSV file I/O (e.g. pd.read_csv)\n",
    "\n",
    "# Input data files are available in the read-only \"../input/\" directory\n",
    "# For example, running this (by clicking run or pressing Shift+Enter) will list all files under the input directory\n",
    "\n",
    "import os\n",
    "for dirname, _, filenames in os.walk('/kaggle/input'):\n",
    "    for filename in filenames:\n",
    "        print(os.path.join(dirname, filename))\n",
    "\n",
    "# You can write up to 20GB to the current directory (/kaggle/working/) that gets preserved as output when you create a version using \"Save & Run All\" \n",
    "# You can also write temporary files to /kaggle/temp/, but they won't be saved outside of the current session"
   ]
  },
  {
   "cell_type": "code",
   "execution_count": 2,
   "id": "9a3d8927",
   "metadata": {
    "execution": {
     "iopub.execute_input": "2025-07-02T13:05:13.388175Z",
     "iopub.status.busy": "2025-07-02T13:05:13.387470Z",
     "iopub.status.idle": "2025-07-02T13:05:13.429776Z",
     "shell.execute_reply": "2025-07-02T13:05:13.428806Z"
    },
    "papermill": {
     "duration": 0.049115,
     "end_time": "2025-07-02T13:05:13.431355",
     "exception": false,
     "start_time": "2025-07-02T13:05:13.382240",
     "status": "completed"
    },
    "tags": []
   },
   "outputs": [],
   "source": [
    "data = pd.read_csv('/kaggle/input/playground-series-s5e7/train.csv')"
   ]
  },
  {
   "cell_type": "code",
   "execution_count": 3,
   "id": "159cb3ba",
   "metadata": {
    "execution": {
     "iopub.execute_input": "2025-07-02T13:05:13.440565Z",
     "iopub.status.busy": "2025-07-02T13:05:13.439970Z",
     "iopub.status.idle": "2025-07-02T13:05:13.477088Z",
     "shell.execute_reply": "2025-07-02T13:05:13.476005Z"
    },
    "papermill": {
     "duration": 0.043227,
     "end_time": "2025-07-02T13:05:13.478661",
     "exception": false,
     "start_time": "2025-07-02T13:05:13.435434",
     "status": "completed"
    },
    "tags": []
   },
   "outputs": [
    {
     "name": "stderr",
     "output_type": "stream",
     "text": [
      "/usr/local/lib/python3.11/dist-packages/pandas/io/formats/format.py:1458: RuntimeWarning: invalid value encountered in greater\n",
      "  has_large_values = (abs_vals > 1e6).any()\n",
      "/usr/local/lib/python3.11/dist-packages/pandas/io/formats/format.py:1459: RuntimeWarning: invalid value encountered in less\n",
      "  has_small_values = ((abs_vals < 10 ** (-self.digits)) & (abs_vals > 0)).any()\n",
      "/usr/local/lib/python3.11/dist-packages/pandas/io/formats/format.py:1459: RuntimeWarning: invalid value encountered in greater\n",
      "  has_small_values = ((abs_vals < 10 ** (-self.digits)) & (abs_vals > 0)).any()\n"
     ]
    },
    {
     "data": {
      "text/html": [
       "<div>\n",
       "<style scoped>\n",
       "    .dataframe tbody tr th:only-of-type {\n",
       "        vertical-align: middle;\n",
       "    }\n",
       "\n",
       "    .dataframe tbody tr th {\n",
       "        vertical-align: top;\n",
       "    }\n",
       "\n",
       "    .dataframe thead th {\n",
       "        text-align: right;\n",
       "    }\n",
       "</style>\n",
       "<table border=\"1\" class=\"dataframe\">\n",
       "  <thead>\n",
       "    <tr style=\"text-align: right;\">\n",
       "      <th></th>\n",
       "      <th>id</th>\n",
       "      <th>Time_spent_Alone</th>\n",
       "      <th>Stage_fear</th>\n",
       "      <th>Social_event_attendance</th>\n",
       "      <th>Going_outside</th>\n",
       "      <th>Drained_after_socializing</th>\n",
       "      <th>Friends_circle_size</th>\n",
       "      <th>Post_frequency</th>\n",
       "      <th>Personality</th>\n",
       "    </tr>\n",
       "  </thead>\n",
       "  <tbody>\n",
       "    <tr>\n",
       "      <th>0</th>\n",
       "      <td>0</td>\n",
       "      <td>0.0</td>\n",
       "      <td>No</td>\n",
       "      <td>6.0</td>\n",
       "      <td>4.0</td>\n",
       "      <td>No</td>\n",
       "      <td>15.0</td>\n",
       "      <td>5.0</td>\n",
       "      <td>Extrovert</td>\n",
       "    </tr>\n",
       "    <tr>\n",
       "      <th>1</th>\n",
       "      <td>1</td>\n",
       "      <td>1.0</td>\n",
       "      <td>No</td>\n",
       "      <td>7.0</td>\n",
       "      <td>3.0</td>\n",
       "      <td>No</td>\n",
       "      <td>10.0</td>\n",
       "      <td>8.0</td>\n",
       "      <td>Extrovert</td>\n",
       "    </tr>\n",
       "    <tr>\n",
       "      <th>2</th>\n",
       "      <td>2</td>\n",
       "      <td>6.0</td>\n",
       "      <td>Yes</td>\n",
       "      <td>1.0</td>\n",
       "      <td>0.0</td>\n",
       "      <td>NaN</td>\n",
       "      <td>3.0</td>\n",
       "      <td>0.0</td>\n",
       "      <td>Introvert</td>\n",
       "    </tr>\n",
       "    <tr>\n",
       "      <th>3</th>\n",
       "      <td>3</td>\n",
       "      <td>3.0</td>\n",
       "      <td>No</td>\n",
       "      <td>7.0</td>\n",
       "      <td>3.0</td>\n",
       "      <td>No</td>\n",
       "      <td>11.0</td>\n",
       "      <td>5.0</td>\n",
       "      <td>Extrovert</td>\n",
       "    </tr>\n",
       "    <tr>\n",
       "      <th>4</th>\n",
       "      <td>4</td>\n",
       "      <td>1.0</td>\n",
       "      <td>No</td>\n",
       "      <td>4.0</td>\n",
       "      <td>4.0</td>\n",
       "      <td>No</td>\n",
       "      <td>13.0</td>\n",
       "      <td>NaN</td>\n",
       "      <td>Extrovert</td>\n",
       "    </tr>\n",
       "    <tr>\n",
       "      <th>5</th>\n",
       "      <td>5</td>\n",
       "      <td>2.0</td>\n",
       "      <td>No</td>\n",
       "      <td>8.0</td>\n",
       "      <td>5.0</td>\n",
       "      <td>No</td>\n",
       "      <td>NaN</td>\n",
       "      <td>3.0</td>\n",
       "      <td>Extrovert</td>\n",
       "    </tr>\n",
       "    <tr>\n",
       "      <th>6</th>\n",
       "      <td>6</td>\n",
       "      <td>1.0</td>\n",
       "      <td>No</td>\n",
       "      <td>8.0</td>\n",
       "      <td>NaN</td>\n",
       "      <td>No</td>\n",
       "      <td>NaN</td>\n",
       "      <td>4.0</td>\n",
       "      <td>Extrovert</td>\n",
       "    </tr>\n",
       "    <tr>\n",
       "      <th>7</th>\n",
       "      <td>7</td>\n",
       "      <td>2.0</td>\n",
       "      <td>No</td>\n",
       "      <td>8.0</td>\n",
       "      <td>3.0</td>\n",
       "      <td>No</td>\n",
       "      <td>4.0</td>\n",
       "      <td>5.0</td>\n",
       "      <td>Extrovert</td>\n",
       "    </tr>\n",
       "    <tr>\n",
       "      <th>8</th>\n",
       "      <td>8</td>\n",
       "      <td>4.0</td>\n",
       "      <td>Yes</td>\n",
       "      <td>2.0</td>\n",
       "      <td>1.0</td>\n",
       "      <td>NaN</td>\n",
       "      <td>0.0</td>\n",
       "      <td>2.0</td>\n",
       "      <td>Introvert</td>\n",
       "    </tr>\n",
       "    <tr>\n",
       "      <th>9</th>\n",
       "      <td>9</td>\n",
       "      <td>1.0</td>\n",
       "      <td>No</td>\n",
       "      <td>8.0</td>\n",
       "      <td>6.0</td>\n",
       "      <td>No</td>\n",
       "      <td>14.0</td>\n",
       "      <td>9.0</td>\n",
       "      <td>Extrovert</td>\n",
       "    </tr>\n",
       "    <tr>\n",
       "      <th>10</th>\n",
       "      <td>10</td>\n",
       "      <td>3.0</td>\n",
       "      <td>No</td>\n",
       "      <td>7.0</td>\n",
       "      <td>4.0</td>\n",
       "      <td>No</td>\n",
       "      <td>5.0</td>\n",
       "      <td>10.0</td>\n",
       "      <td>Extrovert</td>\n",
       "    </tr>\n",
       "    <tr>\n",
       "      <th>11</th>\n",
       "      <td>11</td>\n",
       "      <td>2.0</td>\n",
       "      <td>No</td>\n",
       "      <td>6.0</td>\n",
       "      <td>3.0</td>\n",
       "      <td>No</td>\n",
       "      <td>4.0</td>\n",
       "      <td>8.0</td>\n",
       "      <td>Extrovert</td>\n",
       "    </tr>\n",
       "    <tr>\n",
       "      <th>12</th>\n",
       "      <td>12</td>\n",
       "      <td>3.0</td>\n",
       "      <td>No</td>\n",
       "      <td>5.0</td>\n",
       "      <td>4.0</td>\n",
       "      <td>No</td>\n",
       "      <td>9.0</td>\n",
       "      <td>6.0</td>\n",
       "      <td>Extrovert</td>\n",
       "    </tr>\n",
       "    <tr>\n",
       "      <th>13</th>\n",
       "      <td>13</td>\n",
       "      <td>3.0</td>\n",
       "      <td>NaN</td>\n",
       "      <td>NaN</td>\n",
       "      <td>5.0</td>\n",
       "      <td>No</td>\n",
       "      <td>12.0</td>\n",
       "      <td>5.0</td>\n",
       "      <td>Extrovert</td>\n",
       "    </tr>\n",
       "    <tr>\n",
       "      <th>14</th>\n",
       "      <td>14</td>\n",
       "      <td>3.0</td>\n",
       "      <td>No</td>\n",
       "      <td>6.0</td>\n",
       "      <td>4.0</td>\n",
       "      <td>No</td>\n",
       "      <td>9.0</td>\n",
       "      <td>NaN</td>\n",
       "      <td>Extrovert</td>\n",
       "    </tr>\n",
       "    <tr>\n",
       "      <th>15</th>\n",
       "      <td>15</td>\n",
       "      <td>NaN</td>\n",
       "      <td>No</td>\n",
       "      <td>7.0</td>\n",
       "      <td>6.0</td>\n",
       "      <td>No</td>\n",
       "      <td>5.0</td>\n",
       "      <td>8.0</td>\n",
       "      <td>Extrovert</td>\n",
       "    </tr>\n",
       "    <tr>\n",
       "      <th>16</th>\n",
       "      <td>16</td>\n",
       "      <td>0.0</td>\n",
       "      <td>No</td>\n",
       "      <td>6.0</td>\n",
       "      <td>4.0</td>\n",
       "      <td>No</td>\n",
       "      <td>8.0</td>\n",
       "      <td>10.0</td>\n",
       "      <td>Extrovert</td>\n",
       "    </tr>\n",
       "    <tr>\n",
       "      <th>17</th>\n",
       "      <td>17</td>\n",
       "      <td>5.0</td>\n",
       "      <td>NaN</td>\n",
       "      <td>0.0</td>\n",
       "      <td>4.0</td>\n",
       "      <td>Yes</td>\n",
       "      <td>2.0</td>\n",
       "      <td>0.0</td>\n",
       "      <td>Introvert</td>\n",
       "    </tr>\n",
       "    <tr>\n",
       "      <th>18</th>\n",
       "      <td>18</td>\n",
       "      <td>1.0</td>\n",
       "      <td>No</td>\n",
       "      <td>4.0</td>\n",
       "      <td>4.0</td>\n",
       "      <td>No</td>\n",
       "      <td>11.0</td>\n",
       "      <td>9.0</td>\n",
       "      <td>Extrovert</td>\n",
       "    </tr>\n",
       "    <tr>\n",
       "      <th>19</th>\n",
       "      <td>19</td>\n",
       "      <td>1.0</td>\n",
       "      <td>No</td>\n",
       "      <td>NaN</td>\n",
       "      <td>5.0</td>\n",
       "      <td>No</td>\n",
       "      <td>10.0</td>\n",
       "      <td>3.0</td>\n",
       "      <td>Extrovert</td>\n",
       "    </tr>\n",
       "    <tr>\n",
       "      <th>20</th>\n",
       "      <td>20</td>\n",
       "      <td>1.0</td>\n",
       "      <td>No</td>\n",
       "      <td>9.0</td>\n",
       "      <td>3.0</td>\n",
       "      <td>No</td>\n",
       "      <td>10.0</td>\n",
       "      <td>7.0</td>\n",
       "      <td>Extrovert</td>\n",
       "    </tr>\n",
       "    <tr>\n",
       "      <th>21</th>\n",
       "      <td>21</td>\n",
       "      <td>6.0</td>\n",
       "      <td>Yes</td>\n",
       "      <td>3.0</td>\n",
       "      <td>2.0</td>\n",
       "      <td>Yes</td>\n",
       "      <td>1.0</td>\n",
       "      <td>3.0</td>\n",
       "      <td>Introvert</td>\n",
       "    </tr>\n",
       "    <tr>\n",
       "      <th>22</th>\n",
       "      <td>22</td>\n",
       "      <td>4.0</td>\n",
       "      <td>NaN</td>\n",
       "      <td>0.0</td>\n",
       "      <td>1.0</td>\n",
       "      <td>Yes</td>\n",
       "      <td>2.0</td>\n",
       "      <td>0.0</td>\n",
       "      <td>Introvert</td>\n",
       "    </tr>\n",
       "    <tr>\n",
       "      <th>23</th>\n",
       "      <td>23</td>\n",
       "      <td>3.0</td>\n",
       "      <td>No</td>\n",
       "      <td>9.0</td>\n",
       "      <td>7.0</td>\n",
       "      <td>No</td>\n",
       "      <td>6.0</td>\n",
       "      <td>3.0</td>\n",
       "      <td>Extrovert</td>\n",
       "    </tr>\n",
       "    <tr>\n",
       "      <th>24</th>\n",
       "      <td>24</td>\n",
       "      <td>1.0</td>\n",
       "      <td>No</td>\n",
       "      <td>5.0</td>\n",
       "      <td>3.0</td>\n",
       "      <td>No</td>\n",
       "      <td>12.0</td>\n",
       "      <td>5.0</td>\n",
       "      <td>Extrovert</td>\n",
       "    </tr>\n",
       "    <tr>\n",
       "      <th>25</th>\n",
       "      <td>25</td>\n",
       "      <td>9.0</td>\n",
       "      <td>Yes</td>\n",
       "      <td>1.0</td>\n",
       "      <td>3.0</td>\n",
       "      <td>Yes</td>\n",
       "      <td>7.0</td>\n",
       "      <td>5.0</td>\n",
       "      <td>Introvert</td>\n",
       "    </tr>\n",
       "    <tr>\n",
       "      <th>26</th>\n",
       "      <td>26</td>\n",
       "      <td>3.0</td>\n",
       "      <td>NaN</td>\n",
       "      <td>6.0</td>\n",
       "      <td>5.0</td>\n",
       "      <td>No</td>\n",
       "      <td>10.0</td>\n",
       "      <td>9.0</td>\n",
       "      <td>Extrovert</td>\n",
       "    </tr>\n",
       "    <tr>\n",
       "      <th>27</th>\n",
       "      <td>27</td>\n",
       "      <td>9.0</td>\n",
       "      <td>NaN</td>\n",
       "      <td>0.0</td>\n",
       "      <td>0.0</td>\n",
       "      <td>Yes</td>\n",
       "      <td>1.0</td>\n",
       "      <td>1.0</td>\n",
       "      <td>Introvert</td>\n",
       "    </tr>\n",
       "    <tr>\n",
       "      <th>28</th>\n",
       "      <td>28</td>\n",
       "      <td>2.0</td>\n",
       "      <td>No</td>\n",
       "      <td>NaN</td>\n",
       "      <td>4.0</td>\n",
       "      <td>No</td>\n",
       "      <td>5.0</td>\n",
       "      <td>8.0</td>\n",
       "      <td>Extrovert</td>\n",
       "    </tr>\n",
       "    <tr>\n",
       "      <th>29</th>\n",
       "      <td>29</td>\n",
       "      <td>NaN</td>\n",
       "      <td>Yes</td>\n",
       "      <td>1.0</td>\n",
       "      <td>0.0</td>\n",
       "      <td>Yes</td>\n",
       "      <td>4.0</td>\n",
       "      <td>0.0</td>\n",
       "      <td>Introvert</td>\n",
       "    </tr>\n",
       "  </tbody>\n",
       "</table>\n",
       "</div>"
      ],
      "text/plain": [
       "    id  Time_spent_Alone Stage_fear  Social_event_attendance  Going_outside  \\\n",
       "0    0               0.0         No                      6.0            4.0   \n",
       "1    1               1.0         No                      7.0            3.0   \n",
       "2    2               6.0        Yes                      1.0            0.0   \n",
       "3    3               3.0         No                      7.0            3.0   \n",
       "4    4               1.0         No                      4.0            4.0   \n",
       "5    5               2.0         No                      8.0            5.0   \n",
       "6    6               1.0         No                      8.0            NaN   \n",
       "7    7               2.0         No                      8.0            3.0   \n",
       "8    8               4.0        Yes                      2.0            1.0   \n",
       "9    9               1.0         No                      8.0            6.0   \n",
       "10  10               3.0         No                      7.0            4.0   \n",
       "11  11               2.0         No                      6.0            3.0   \n",
       "12  12               3.0         No                      5.0            4.0   \n",
       "13  13               3.0        NaN                      NaN            5.0   \n",
       "14  14               3.0         No                      6.0            4.0   \n",
       "15  15               NaN         No                      7.0            6.0   \n",
       "16  16               0.0         No                      6.0            4.0   \n",
       "17  17               5.0        NaN                      0.0            4.0   \n",
       "18  18               1.0         No                      4.0            4.0   \n",
       "19  19               1.0         No                      NaN            5.0   \n",
       "20  20               1.0         No                      9.0            3.0   \n",
       "21  21               6.0        Yes                      3.0            2.0   \n",
       "22  22               4.0        NaN                      0.0            1.0   \n",
       "23  23               3.0         No                      9.0            7.0   \n",
       "24  24               1.0         No                      5.0            3.0   \n",
       "25  25               9.0        Yes                      1.0            3.0   \n",
       "26  26               3.0        NaN                      6.0            5.0   \n",
       "27  27               9.0        NaN                      0.0            0.0   \n",
       "28  28               2.0         No                      NaN            4.0   \n",
       "29  29               NaN        Yes                      1.0            0.0   \n",
       "\n",
       "   Drained_after_socializing  Friends_circle_size  Post_frequency Personality  \n",
       "0                         No                 15.0             5.0   Extrovert  \n",
       "1                         No                 10.0             8.0   Extrovert  \n",
       "2                        NaN                  3.0             0.0   Introvert  \n",
       "3                         No                 11.0             5.0   Extrovert  \n",
       "4                         No                 13.0             NaN   Extrovert  \n",
       "5                         No                  NaN             3.0   Extrovert  \n",
       "6                         No                  NaN             4.0   Extrovert  \n",
       "7                         No                  4.0             5.0   Extrovert  \n",
       "8                        NaN                  0.0             2.0   Introvert  \n",
       "9                         No                 14.0             9.0   Extrovert  \n",
       "10                        No                  5.0            10.0   Extrovert  \n",
       "11                        No                  4.0             8.0   Extrovert  \n",
       "12                        No                  9.0             6.0   Extrovert  \n",
       "13                        No                 12.0             5.0   Extrovert  \n",
       "14                        No                  9.0             NaN   Extrovert  \n",
       "15                        No                  5.0             8.0   Extrovert  \n",
       "16                        No                  8.0            10.0   Extrovert  \n",
       "17                       Yes                  2.0             0.0   Introvert  \n",
       "18                        No                 11.0             9.0   Extrovert  \n",
       "19                        No                 10.0             3.0   Extrovert  \n",
       "20                        No                 10.0             7.0   Extrovert  \n",
       "21                       Yes                  1.0             3.0   Introvert  \n",
       "22                       Yes                  2.0             0.0   Introvert  \n",
       "23                        No                  6.0             3.0   Extrovert  \n",
       "24                        No                 12.0             5.0   Extrovert  \n",
       "25                       Yes                  7.0             5.0   Introvert  \n",
       "26                        No                 10.0             9.0   Extrovert  \n",
       "27                       Yes                  1.0             1.0   Introvert  \n",
       "28                        No                  5.0             8.0   Extrovert  \n",
       "29                       Yes                  4.0             0.0   Introvert  "
      ]
     },
     "execution_count": 3,
     "metadata": {},
     "output_type": "execute_result"
    }
   ],
   "source": [
    "data.head(30)"
   ]
  },
  {
   "cell_type": "code",
   "execution_count": 4,
   "id": "a1d26f7c",
   "metadata": {
    "execution": {
     "iopub.execute_input": "2025-07-02T13:05:13.489259Z",
     "iopub.status.busy": "2025-07-02T13:05:13.488649Z",
     "iopub.status.idle": "2025-07-02T13:05:13.504212Z",
     "shell.execute_reply": "2025-07-02T13:05:13.503243Z"
    },
    "papermill": {
     "duration": 0.022729,
     "end_time": "2025-07-02T13:05:13.505973",
     "exception": false,
     "start_time": "2025-07-02T13:05:13.483244",
     "status": "completed"
    },
    "tags": []
   },
   "outputs": [],
   "source": [
    "data_test = pd.read_csv('/kaggle/input/playground-series-s5e7/test.csv')"
   ]
  },
  {
   "cell_type": "code",
   "execution_count": 5,
   "id": "27c6d468",
   "metadata": {
    "execution": {
     "iopub.execute_input": "2025-07-02T13:05:13.516707Z",
     "iopub.status.busy": "2025-07-02T13:05:13.516042Z",
     "iopub.status.idle": "2025-07-02T13:05:14.813803Z",
     "shell.execute_reply": "2025-07-02T13:05:14.813095Z"
    },
    "papermill": {
     "duration": 1.304844,
     "end_time": "2025-07-02T13:05:14.815382",
     "exception": false,
     "start_time": "2025-07-02T13:05:13.510538",
     "status": "completed"
    },
    "tags": []
   },
   "outputs": [],
   "source": [
    "from sklearn.preprocessing import LabelEncoder"
   ]
  },
  {
   "cell_type": "code",
   "execution_count": 6,
   "id": "f72c6add",
   "metadata": {
    "execution": {
     "iopub.execute_input": "2025-07-02T13:05:14.825233Z",
     "iopub.status.busy": "2025-07-02T13:05:14.824757Z",
     "iopub.status.idle": "2025-07-02T13:05:30.731048Z",
     "shell.execute_reply": "2025-07-02T13:05:30.730348Z"
    },
    "papermill": {
     "duration": 15.913013,
     "end_time": "2025-07-02T13:05:30.732774",
     "exception": false,
     "start_time": "2025-07-02T13:05:14.819761",
     "status": "completed"
    },
    "tags": []
   },
   "outputs": [
    {
     "name": "stderr",
     "output_type": "stream",
     "text": [
      "2025-07-02 13:05:16.856836: E external/local_xla/xla/stream_executor/cuda/cuda_fft.cc:477] Unable to register cuFFT factory: Attempting to register factory for plugin cuFFT when one has already been registered\n",
      "WARNING: All log messages before absl::InitializeLog() is called are written to STDERR\n",
      "E0000 00:00:1751461517.083825      13 cuda_dnn.cc:8310] Unable to register cuDNN factory: Attempting to register factory for plugin cuDNN when one has already been registered\n",
      "E0000 00:00:1751461517.156451      13 cuda_blas.cc:1418] Unable to register cuBLAS factory: Attempting to register factory for plugin cuBLAS when one has already been registered\n"
     ]
    }
   ],
   "source": [
    "from tensorflow import keras\n",
    "from tensorflow.keras import layers"
   ]
  },
  {
   "cell_type": "code",
   "execution_count": 7,
   "id": "548d8aef",
   "metadata": {
    "execution": {
     "iopub.execute_input": "2025-07-02T13:05:30.743138Z",
     "iopub.status.busy": "2025-07-02T13:05:30.742594Z",
     "iopub.status.idle": "2025-07-02T13:05:30.767540Z",
     "shell.execute_reply": "2025-07-02T13:05:30.766634Z"
    },
    "papermill": {
     "duration": 0.031724,
     "end_time": "2025-07-02T13:05:30.769174",
     "exception": false,
     "start_time": "2025-07-02T13:05:30.737450",
     "status": "completed"
    },
    "tags": []
   },
   "outputs": [],
   "source": [
    "categorical_cols = ['Stage_fear', 'Drained_after_socializing']\n",
    "data[categorical_cols] = data[categorical_cols].fillna('Unknown')\n",
    "\n",
    "numerical_cols = ['Time_spent_Alone', 'Social_event_attendance', 'Going_outside',\n",
    "                  'Friends_circle_size', 'Post_frequency']\n",
    "data[numerical_cols] = data[numerical_cols].fillna(data[numerical_cols].median())"
   ]
  },
  {
   "cell_type": "code",
   "execution_count": 8,
   "id": "b6e673fc",
   "metadata": {
    "execution": {
     "iopub.execute_input": "2025-07-02T13:05:30.779106Z",
     "iopub.status.busy": "2025-07-02T13:05:30.778818Z",
     "iopub.status.idle": "2025-07-02T13:05:30.792591Z",
     "shell.execute_reply": "2025-07-02T13:05:30.791815Z"
    },
    "papermill": {
     "duration": 0.020367,
     "end_time": "2025-07-02T13:05:30.793998",
     "exception": false,
     "start_time": "2025-07-02T13:05:30.773631",
     "status": "completed"
    },
    "tags": []
   },
   "outputs": [],
   "source": [
    "binary_map = {'Yes': 1, 'No': 0, 'Unknown': -1}\n",
    "data['Stage_fear'] = data['Stage_fear'].map(binary_map)\n",
    "data['Drained_after_socializing'] = data['Drained_after_socializing'].map(binary_map)\n",
    "\n",
    "le = LabelEncoder()\n",
    "data['Personality'] = le.fit_transform(data['Personality'])"
   ]
  },
  {
   "cell_type": "code",
   "execution_count": 9,
   "id": "2053e946",
   "metadata": {
    "execution": {
     "iopub.execute_input": "2025-07-02T13:05:30.803798Z",
     "iopub.status.busy": "2025-07-02T13:05:30.803521Z",
     "iopub.status.idle": "2025-07-02T13:05:30.911480Z",
     "shell.execute_reply": "2025-07-02T13:05:30.910361Z"
    },
    "papermill": {
     "duration": 0.114558,
     "end_time": "2025-07-02T13:05:30.913027",
     "exception": false,
     "start_time": "2025-07-02T13:05:30.798469",
     "status": "completed"
    },
    "tags": []
   },
   "outputs": [],
   "source": [
    "from sklearn.model_selection import train_test_split\n",
    "\n",
    "X = data.drop(columns = ['id', 'Personality'])\n",
    "y = data['Personality']\n",
    "\n",
    "X_train, X_test, y_train, y_test = train_test_split(X, y, test_size = 0.2, random_state = 42)"
   ]
  },
  {
   "cell_type": "code",
   "execution_count": 10,
   "id": "934fbb6b",
   "metadata": {
    "execution": {
     "iopub.execute_input": "2025-07-02T13:05:30.922920Z",
     "iopub.status.busy": "2025-07-02T13:05:30.922638Z",
     "iopub.status.idle": "2025-07-02T13:05:30.964559Z",
     "shell.execute_reply": "2025-07-02T13:05:30.963825Z"
    },
    "papermill": {
     "duration": 0.048525,
     "end_time": "2025-07-02T13:05:30.966104",
     "exception": false,
     "start_time": "2025-07-02T13:05:30.917579",
     "status": "completed"
    },
    "tags": []
   },
   "outputs": [],
   "source": [
    "from sklearn.preprocessing import StandardScaler\n",
    "\n",
    "scaler = StandardScaler()\n",
    "X_train_scaled = scaler.fit_transform(X_train)\n",
    "X_test_scaled = scaler.transform(X_test)"
   ]
  },
  {
   "cell_type": "code",
   "execution_count": 11,
   "id": "a54c0298",
   "metadata": {
    "execution": {
     "iopub.execute_input": "2025-07-02T13:05:30.976078Z",
     "iopub.status.busy": "2025-07-02T13:05:30.975766Z",
     "iopub.status.idle": "2025-07-02T13:05:31.070367Z",
     "shell.execute_reply": "2025-07-02T13:05:31.069487Z"
    },
    "papermill": {
     "duration": 0.101214,
     "end_time": "2025-07-02T13:05:31.071823",
     "exception": false,
     "start_time": "2025-07-02T13:05:30.970609",
     "status": "completed"
    },
    "tags": []
   },
   "outputs": [
    {
     "name": "stderr",
     "output_type": "stream",
     "text": [
      "/usr/local/lib/python3.11/dist-packages/keras/src/layers/core/dense.py:87: UserWarning: Do not pass an `input_shape`/`input_dim` argument to a layer. When using Sequential models, prefer using an `Input(shape)` object as the first layer in the model instead.\n",
      "  super().__init__(activity_regularizer=activity_regularizer, **kwargs)\n",
      "2025-07-02 13:05:30.985379: E external/local_xla/xla/stream_executor/cuda/cuda_driver.cc:152] failed call to cuInit: INTERNAL: CUDA error: Failed call to cuInit: UNKNOWN ERROR (303)\n"
     ]
    }
   ],
   "source": [
    "# from tensorflow.keras.layers import Dense, Dropout\n",
    "\n",
    "model = keras.Sequential([\n",
    "    layers.Dense(64, activation = 'relu', input_shape = (X_train_scaled.shape[1],)),\n",
    "    layers.Dropout(0.3),\n",
    "    layers.Dense(64, activation = 'relu'),\n",
    "    layers.Dropout(0.3),\n",
    "    layers.Dense(1, activation = 'sigmoid'),\n",
    "])"
   ]
  },
  {
   "cell_type": "code",
   "execution_count": 12,
   "id": "d10c6133",
   "metadata": {
    "execution": {
     "iopub.execute_input": "2025-07-02T13:05:31.081958Z",
     "iopub.status.busy": "2025-07-02T13:05:31.081408Z",
     "iopub.status.idle": "2025-07-02T13:05:31.095769Z",
     "shell.execute_reply": "2025-07-02T13:05:31.095070Z"
    },
    "papermill": {
     "duration": 0.020868,
     "end_time": "2025-07-02T13:05:31.097262",
     "exception": false,
     "start_time": "2025-07-02T13:05:31.076394",
     "status": "completed"
    },
    "tags": []
   },
   "outputs": [],
   "source": [
    "model.compile(\n",
    "    optimizer = 'adam',\n",
    "    loss = 'binary_crossentropy',\n",
    "    metrics = ['accuracy']\n",
    ")"
   ]
  },
  {
   "cell_type": "code",
   "execution_count": 13,
   "id": "acb88d19",
   "metadata": {
    "execution": {
     "iopub.execute_input": "2025-07-02T13:05:31.107874Z",
     "iopub.status.busy": "2025-07-02T13:05:31.107196Z",
     "iopub.status.idle": "2025-07-02T13:05:31.111385Z",
     "shell.execute_reply": "2025-07-02T13:05:31.110539Z"
    },
    "papermill": {
     "duration": 0.010922,
     "end_time": "2025-07-02T13:05:31.112813",
     "exception": false,
     "start_time": "2025-07-02T13:05:31.101891",
     "status": "completed"
    },
    "tags": []
   },
   "outputs": [],
   "source": [
    "early_stop = keras.callbacks.EarlyStopping(\n",
    "    monitor = 'val_loss',\n",
    "    patience = 5,\n",
    "    restore_best_weights = True,\n",
    ")"
   ]
  },
  {
   "cell_type": "code",
   "execution_count": 14,
   "id": "37fa0616",
   "metadata": {
    "execution": {
     "iopub.execute_input": "2025-07-02T13:05:31.123933Z",
     "iopub.status.busy": "2025-07-02T13:05:31.123378Z",
     "iopub.status.idle": "2025-07-02T13:06:01.430268Z",
     "shell.execute_reply": "2025-07-02T13:06:01.429184Z"
    },
    "papermill": {
     "duration": 30.33335,
     "end_time": "2025-07-02T13:06:01.450767",
     "exception": false,
     "start_time": "2025-07-02T13:05:31.117417",
     "status": "completed"
    },
    "tags": []
   },
   "outputs": [
    {
     "name": "stdout",
     "output_type": "stream",
     "text": [
      "Epoch 1/20\n",
      "\u001b[1m927/927\u001b[0m \u001b[32m━━━━━━━━━━━━━━━━━━━━\u001b[0m\u001b[37m\u001b[0m \u001b[1m4s\u001b[0m 2ms/step - accuracy: 0.9389 - loss: 0.2314 - val_accuracy: 0.9687 - val_loss: 0.1422\n",
      "Epoch 2/20\n",
      "\u001b[1m927/927\u001b[0m \u001b[32m━━━━━━━━━━━━━━━━━━━━\u001b[0m\u001b[37m\u001b[0m \u001b[1m2s\u001b[0m 2ms/step - accuracy: 0.9697 - loss: 0.1414 - val_accuracy: 0.9684 - val_loss: 0.1420\n",
      "Epoch 3/20\n",
      "\u001b[1m927/927\u001b[0m \u001b[32m━━━━━━━━━━━━━━━━━━━━\u001b[0m\u001b[37m\u001b[0m \u001b[1m2s\u001b[0m 2ms/step - accuracy: 0.9699 - loss: 0.1375 - val_accuracy: 0.9687 - val_loss: 0.1381\n",
      "Epoch 4/20\n",
      "\u001b[1m927/927\u001b[0m \u001b[32m━━━━━━━━━━━━━━━━━━━━\u001b[0m\u001b[37m\u001b[0m \u001b[1m2s\u001b[0m 2ms/step - accuracy: 0.9684 - loss: 0.1424 - val_accuracy: 0.9687 - val_loss: 0.1369\n",
      "Epoch 5/20\n",
      "\u001b[1m927/927\u001b[0m \u001b[32m━━━━━━━━━━━━━━━━━━━━\u001b[0m\u001b[37m\u001b[0m \u001b[1m2s\u001b[0m 2ms/step - accuracy: 0.9682 - loss: 0.1442 - val_accuracy: 0.9687 - val_loss: 0.1359\n",
      "Epoch 6/20\n",
      "\u001b[1m927/927\u001b[0m \u001b[32m━━━━━━━━━━━━━━━━━━━━\u001b[0m\u001b[37m\u001b[0m \u001b[1m2s\u001b[0m 2ms/step - accuracy: 0.9691 - loss: 0.1401 - val_accuracy: 0.9684 - val_loss: 0.1384\n",
      "Epoch 7/20\n",
      "\u001b[1m927/927\u001b[0m \u001b[32m━━━━━━━━━━━━━━━━━━━━\u001b[0m\u001b[37m\u001b[0m \u001b[1m2s\u001b[0m 2ms/step - accuracy: 0.9665 - loss: 0.1448 - val_accuracy: 0.9684 - val_loss: 0.1371\n",
      "Epoch 8/20\n",
      "\u001b[1m927/927\u001b[0m \u001b[32m━━━━━━━━━━━━━━━━━━━━\u001b[0m\u001b[37m\u001b[0m \u001b[1m2s\u001b[0m 2ms/step - accuracy: 0.9686 - loss: 0.1404 - val_accuracy: 0.9684 - val_loss: 0.1370\n",
      "Epoch 9/20\n",
      "\u001b[1m927/927\u001b[0m \u001b[32m━━━━━━━━━━━━━━━━━━━━\u001b[0m\u001b[37m\u001b[0m \u001b[1m2s\u001b[0m 2ms/step - accuracy: 0.9668 - loss: 0.1455 - val_accuracy: 0.9684 - val_loss: 0.1342\n",
      "Epoch 10/20\n",
      "\u001b[1m927/927\u001b[0m \u001b[32m━━━━━━━━━━━━━━━━━━━━\u001b[0m\u001b[37m\u001b[0m \u001b[1m2s\u001b[0m 2ms/step - accuracy: 0.9684 - loss: 0.1396 - val_accuracy: 0.9687 - val_loss: 0.1354\n",
      "Epoch 11/20\n",
      "\u001b[1m927/927\u001b[0m \u001b[32m━━━━━━━━━━━━━━━━━━━━\u001b[0m\u001b[37m\u001b[0m \u001b[1m2s\u001b[0m 2ms/step - accuracy: 0.9702 - loss: 0.1322 - val_accuracy: 0.9687 - val_loss: 0.1358\n",
      "Epoch 12/20\n",
      "\u001b[1m927/927\u001b[0m \u001b[32m━━━━━━━━━━━━━━━━━━━━\u001b[0m\u001b[37m\u001b[0m \u001b[1m2s\u001b[0m 2ms/step - accuracy: 0.9680 - loss: 0.1363 - val_accuracy: 0.9687 - val_loss: 0.1374\n",
      "Epoch 13/20\n",
      "\u001b[1m927/927\u001b[0m \u001b[32m━━━━━━━━━━━━━━━━━━━━\u001b[0m\u001b[37m\u001b[0m \u001b[1m2s\u001b[0m 2ms/step - accuracy: 0.9702 - loss: 0.1308 - val_accuracy: 0.9684 - val_loss: 0.1353\n",
      "Epoch 14/20\n",
      "\u001b[1m927/927\u001b[0m \u001b[32m━━━━━━━━━━━━━━━━━━━━\u001b[0m\u001b[37m\u001b[0m \u001b[1m2s\u001b[0m 2ms/step - accuracy: 0.9695 - loss: 0.1341 - val_accuracy: 0.9684 - val_loss: 0.1347\n"
     ]
    }
   ],
   "source": [
    "history = model.fit(\n",
    "    X_train_scaled, y_train,\n",
    "    validation_data = (X_test_scaled, y_test),\n",
    "    epochs = 20,\n",
    "    batch_size = 16,\n",
    "    callbacks = [early_stop],\n",
    "    verbose = 1\n",
    ")"
   ]
  },
  {
   "cell_type": "code",
   "execution_count": 15,
   "id": "52d8a9d5",
   "metadata": {
    "execution": {
     "iopub.execute_input": "2025-07-02T13:06:01.504443Z",
     "iopub.status.busy": "2025-07-02T13:06:01.504101Z",
     "iopub.status.idle": "2025-07-02T13:06:01.766266Z",
     "shell.execute_reply": "2025-07-02T13:06:01.765370Z"
    },
    "papermill": {
     "duration": 0.290886,
     "end_time": "2025-07-02T13:06:01.767761",
     "exception": false,
     "start_time": "2025-07-02T13:06:01.476875",
     "status": "completed"
    },
    "tags": []
   },
   "outputs": [
    {
     "name": "stdout",
     "output_type": "stream",
     "text": [
      "\u001b[1m116/116\u001b[0m \u001b[32m━━━━━━━━━━━━━━━━━━━━\u001b[0m\u001b[37m\u001b[0m \u001b[1m0s\u001b[0m 2ms/step - accuracy: 0.9688 - loss: 0.1362\n",
      "Test Accuracy: 0.9684210419654846\n"
     ]
    }
   ],
   "source": [
    "loss, accuracy = model.evaluate(X_test_scaled, y_test)\n",
    "print(f\"Test Accuracy: {accuracy}\")"
   ]
  },
  {
   "cell_type": "code",
   "execution_count": 16,
   "id": "e80a4eca",
   "metadata": {
    "execution": {
     "iopub.execute_input": "2025-07-02T13:06:01.821667Z",
     "iopub.status.busy": "2025-07-02T13:06:01.821351Z",
     "iopub.status.idle": "2025-07-02T13:06:01.833092Z",
     "shell.execute_reply": "2025-07-02T13:06:01.831991Z"
    },
    "papermill": {
     "duration": 0.040561,
     "end_time": "2025-07-02T13:06:01.834603",
     "exception": false,
     "start_time": "2025-07-02T13:06:01.794042",
     "status": "completed"
    },
    "tags": []
   },
   "outputs": [],
   "source": [
    "data_test = pd.read_csv('/kaggle/input/playground-series-s5e7/test.csv')"
   ]
  },
  {
   "cell_type": "code",
   "execution_count": 17,
   "id": "70be2884",
   "metadata": {
    "execution": {
     "iopub.execute_input": "2025-07-02T13:06:01.888667Z",
     "iopub.status.busy": "2025-07-02T13:06:01.888355Z",
     "iopub.status.idle": "2025-07-02T13:06:01.907789Z",
     "shell.execute_reply": "2025-07-02T13:06:01.907108Z"
    },
    "papermill": {
     "duration": 0.047893,
     "end_time": "2025-07-02T13:06:01.909279",
     "exception": false,
     "start_time": "2025-07-02T13:06:01.861386",
     "status": "completed"
    },
    "tags": []
   },
   "outputs": [],
   "source": [
    "data_test[categorical_cols] = data_test[categorical_cols].fillna('Unknown')\n",
    "data_test[numerical_cols] = data_test[numerical_cols].fillna(data[numerical_cols].median())\n",
    "\n",
    "data_test['Stage_fear'] = data_test['Stage_fear'].map(binary_map)\n",
    "data_test['Drained_after_socializing'] = data_test['Drained_after_socializing'].map(binary_map)\n",
    "\n",
    "X_test_final = scaler.transform(data_test.drop(columns = ['id']))\n"
   ]
  },
  {
   "cell_type": "code",
   "execution_count": 18,
   "id": "ca56a7a6",
   "metadata": {
    "execution": {
     "iopub.execute_input": "2025-07-02T13:06:01.963738Z",
     "iopub.status.busy": "2025-07-02T13:06:01.962860Z",
     "iopub.status.idle": "2025-07-02T13:06:02.413041Z",
     "shell.execute_reply": "2025-07-02T13:06:02.412306Z"
    },
    "papermill": {
     "duration": 0.478883,
     "end_time": "2025-07-02T13:06:02.414655",
     "exception": false,
     "start_time": "2025-07-02T13:06:01.935772",
     "status": "completed"
    },
    "tags": []
   },
   "outputs": [
    {
     "name": "stdout",
     "output_type": "stream",
     "text": [
      "\u001b[1m193/193\u001b[0m \u001b[32m━━━━━━━━━━━━━━━━━━━━\u001b[0m\u001b[37m\u001b[0m \u001b[1m0s\u001b[0m 1ms/step\n"
     ]
    }
   ],
   "source": [
    "pred_probs = model.predict(X_test_final)\n",
    "\n",
    "predictions = (pred_probs > 0.5).astype(int).flatten()"
   ]
  },
  {
   "cell_type": "code",
   "execution_count": 19,
   "id": "0081828c",
   "metadata": {
    "execution": {
     "iopub.execute_input": "2025-07-02T13:06:02.470277Z",
     "iopub.status.busy": "2025-07-02T13:06:02.469905Z",
     "iopub.status.idle": "2025-07-02T13:06:02.475769Z",
     "shell.execute_reply": "2025-07-02T13:06:02.475084Z"
    },
    "papermill": {
     "duration": 0.035096,
     "end_time": "2025-07-02T13:06:02.477063",
     "exception": false,
     "start_time": "2025-07-02T13:06:02.441967",
     "status": "completed"
    },
    "tags": []
   },
   "outputs": [],
   "source": [
    "pred_labels = le.inverse_transform(predictions)\n",
    "\n",
    "submission = pd.DataFrame({\n",
    "    'id': data_test['id'],\n",
    "    'Personality': pred_labels\n",
    "})"
   ]
  },
  {
   "cell_type": "code",
   "execution_count": 20,
   "id": "6bc56fe4",
   "metadata": {
    "execution": {
     "iopub.execute_input": "2025-07-02T13:06:02.599512Z",
     "iopub.status.busy": "2025-07-02T13:06:02.598802Z",
     "iopub.status.idle": "2025-07-02T13:06:02.605739Z",
     "shell.execute_reply": "2025-07-02T13:06:02.604757Z"
    },
    "papermill": {
     "duration": 0.036417,
     "end_time": "2025-07-02T13:06:02.607057",
     "exception": false,
     "start_time": "2025-07-02T13:06:02.570640",
     "status": "completed"
    },
    "tags": []
   },
   "outputs": [
    {
     "name": "stdout",
     "output_type": "stream",
     "text": [
      "      id Personality\n",
      "0  18524   Extrovert\n",
      "1  18525   Introvert\n",
      "2  18526   Extrovert\n",
      "3  18527   Extrovert\n",
      "4  18528   Introvert\n"
     ]
    }
   ],
   "source": [
    "print(submission.head())"
   ]
  },
  {
   "cell_type": "code",
   "execution_count": 21,
   "id": "88112c91",
   "metadata": {
    "execution": {
     "iopub.execute_input": "2025-07-02T13:06:02.663607Z",
     "iopub.status.busy": "2025-07-02T13:06:02.662744Z",
     "iopub.status.idle": "2025-07-02T13:06:02.678250Z",
     "shell.execute_reply": "2025-07-02T13:06:02.677412Z"
    },
    "papermill": {
     "duration": 0.045613,
     "end_time": "2025-07-02T13:06:02.680069",
     "exception": false,
     "start_time": "2025-07-02T13:06:02.634456",
     "status": "completed"
    },
    "tags": []
   },
   "outputs": [],
   "source": [
    "submission.to_csv('submission.csv', index = False)"
   ]
  },
  {
   "cell_type": "code",
   "execution_count": null,
   "id": "02a0a417",
   "metadata": {
    "papermill": {
     "duration": 0.026811,
     "end_time": "2025-07-02T13:06:02.733930",
     "exception": false,
     "start_time": "2025-07-02T13:06:02.707119",
     "status": "completed"
    },
    "tags": []
   },
   "outputs": [],
   "source": []
  }
 ],
 "metadata": {
  "kaggle": {
   "accelerator": "none",
   "dataSources": [
    {
     "databundleVersionId": 12738969,
     "sourceId": 91718,
     "sourceType": "competition"
    }
   ],
   "dockerImageVersionId": 31040,
   "isGpuEnabled": false,
   "isInternetEnabled": true,
   "language": "python",
   "sourceType": "notebook"
  },
  "kernelspec": {
   "display_name": "Python 3",
   "language": "python",
   "name": "python3"
  },
  "language_info": {
   "codemirror_mode": {
    "name": "ipython",
    "version": 3
   },
   "file_extension": ".py",
   "mimetype": "text/x-python",
   "name": "python",
   "nbconvert_exporter": "python",
   "pygments_lexer": "ipython3",
   "version": "3.11.11"
  },
  "papermill": {
   "default_parameters": {},
   "duration": 59.802396,
   "end_time": "2025-07-02T13:06:06.167923",
   "environment_variables": {},
   "exception": null,
   "input_path": "__notebook__.ipynb",
   "output_path": "__notebook__.ipynb",
   "parameters": {},
   "start_time": "2025-07-02T13:05:06.365527",
   "version": "2.6.0"
  }
 },
 "nbformat": 4,
 "nbformat_minor": 5
}
